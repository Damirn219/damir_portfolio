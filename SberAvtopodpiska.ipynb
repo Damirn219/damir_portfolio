{
 "cells": [
  {
   "cell_type": "markdown",
   "id": "18d11882-a6a0-494e-946e-c82456ba2aa0",
   "metadata": {
    "tags": []
   },
   "source": [
    "## Задачи"
   ]
  },
  {
   "cell_type": "markdown",
   "id": "3d57d923-31be-4b3b-86b4-df85c752cda7",
   "metadata": {
    "tags": []
   },
   "source": [
    "#### Проверка гепотиз"
   ]
  },
  {
   "cell_type": "markdown",
   "id": "3fae80eb-6b9b-4864-9c02-2215a13aebee",
   "metadata": {},
   "source": [
    "Вопрос: Органический трафик не отличается от платного с точки зрения CR (Conversion Rate) в целевые события.\n",
    "1. Нулевая гипотеза: Органический трафик **не отличается** от платного в целевые события.\n",
    "2. Альтернативная гипотеза: Органический трафик **отличается** от платного в целевые события."
   ]
  },
  {
   "cell_type": "markdown",
   "id": "bac1645b-1bec-40aa-8f74-686c7ab5f19c",
   "metadata": {},
   "source": [
    "Вопрос: Трафик с мобильных устройств не отличается от трафика с десктопных устройств с точки зрения CR (Conversion Rate) в целевые события.  \n",
    "1. Нулевая гипотеза: Трафик с мобильных устройств **не отличается** от трафика с десктопных устройств в целевые события.\n",
    "2. Альтернативная гипотеза: Трафик с мобильных устройств **отличается** от трафика с десктопных устройств в целевые события."
   ]
  },
  {
   "cell_type": "markdown",
   "id": "66289100-0a81-483d-a884-59ae857c4494",
   "metadata": {},
   "source": [
    "Вопрос: Трафик из городов присутствия (Москва и область, Санкт-Петербург) не отличается от трафика из иных регионов с точки зрения CR (Conversion Rate) в целевые события.\n",
    "1. Нулевая гипотеза: Трафик из городов присутствия (Москва и область, Санкт-Петербург) **не отличается** от трафика из иных регионов в целевые события.\n",
    "2. Альтернативная гипотеза: Трафик из городов присутствия (Москва и область, Санкт-Петербург) **отличается** от трафика из иных регионов в целевые события."
   ]
  },
  {
   "cell_type": "markdown",
   "id": "578838c7-af0a-4982-9ee5-1c600dbe17e2",
   "metadata": {
    "tags": []
   },
   "source": [
    "#### Вопросы продуктовой команды"
   ]
  },
  {
   "cell_type": "markdown",
   "id": "f42d57a2-fd74-4fbf-b120-cfecdba60150",
   "metadata": {},
   "source": [
    "Из каких источников / кампаний / устройств / локаций к нам идёт самый целевой трафик с точки зрения объёма трафика, и с точки зрения CR ? "
   ]
  },
  {
   "cell_type": "markdown",
   "id": "91978a24-94fe-40b1-9fab-284a411d513c",
   "metadata": {
    "tags": []
   },
   "source": [
    "Какие авто пользуются наибольшим спросом? У каких авто самый лучший показатель CR (Conversion Rate) в целевые события? "
   ]
  },
  {
   "cell_type": "markdown",
   "id": "ec6f7ac2-46ba-466d-b25f-9651f5cb9eec",
   "metadata": {},
   "source": [
    "Стоит ли нам увеличивать своё присутствие в соцсетях и давать там больше рекламы?"
   ]
  },
  {
   "cell_type": "markdown",
   "id": "77a3a33c-e7fa-4b9f-9efa-9be7201a20b3",
   "metadata": {
    "tags": []
   },
   "source": [
    "## GA Sessions"
   ]
  },
  {
   "cell_type": "markdown",
   "id": "1391f269-e244-4105-a034-08e2037a854a",
   "metadata": {
    "tags": []
   },
   "source": [
    "### Описание dataseta"
   ]
  },
  {
   "cell_type": "markdown",
   "id": "192d090a-ccef-436c-baa0-ea948154dacc",
   "metadata": {
    "tags": []
   },
   "source": [
    "* session_id — ID визита\n",
    "* client_id — ID посетителя\n",
    "* visit_date — дата визита\n",
    "* visit_time — время визита\n",
    "* visit_number — порядковый номер визита клиента\n",
    "* utm_source — канал привлечения\n",
    "* utm_medium — тип привлечения\n",
    "* utm_adcontent - \n",
    "* utm_campaign — рекламная кампания\n",
    "* utm_keyword — ключевое слово\n",
    "* device_category — тип устройства\n",
    "* device_os — ОС устройства\n",
    "* device_brand — марка устройства\n",
    "* device_model — модель устройства\n",
    "* device_screen_resolution — разрешение экрана\n",
    "* device_browser — браузер\n",
    "* geo_country — страна\n",
    "* geo_city — город"
   ]
  },
  {
   "cell_type": "markdown",
   "id": "1e514a53-a37a-4006-926a-1626629c399a",
   "metadata": {
    "tags": []
   },
   "source": [
    "### Знакомство с Dataset'om"
   ]
  },
  {
   "cell_type": "code",
   "execution_count": 1,
   "id": "67e009ef-2157-4ffc-81b0-410e14c03776",
   "metadata": {
    "tags": []
   },
   "outputs": [],
   "source": [
    "import pandas as pd\n",
    "import missingno as msno\n",
    "from scipy import stats\n",
    "import matplotlib.pyplot as plt\n",
    "from matplotlib import pyplot\n",
    "from PIL import Image"
   ]
  },
  {
   "cell_type": "markdown",
   "id": "9445d9c7-a3d3-4128-94e5-a5408f11ee28",
   "metadata": {},
   "source": [
    "План работ:\n",
    "* Загрузить dataset(df)  и вывести 5 первых строк \n",
    "* shape посмотрим сколько строк и колонок в df \n",
    "* colomns смотрим какие колонки в df \n",
    "* info() смотрим заполниность колонок и формат колонок\n",
    "* msno.matrix Покажет наглядно какие строки отсутствуют \n",
    "* copy() делаем копию df чтобы можно было вернутся обратно, если это понадобится"
   ]
  },
  {
   "cell_type": "code",
   "execution_count": 2,
   "id": "684b4a85-8c17-4b51-96f2-e500e2a3bf96",
   "metadata": {
    "tags": []
   },
   "outputs": [],
   "source": [
    "df = pd.read_csv('data/ga_sessions.csv', delimiter=',', low_memory=False)"
   ]
  },
  {
   "cell_type": "code",
   "execution_count": 3,
   "id": "a18351d9-6c93-4abe-9fae-9020d3d0fb33",
   "metadata": {
    "tags": []
   },
   "outputs": [],
   "source": [
    "def df_info(data):\n",
    "    print('-----------------------------------------')\n",
    "    print(data.info())\n",
    "    print('-----------------------------------------')\n",
    "    display(pd.DataFrame(round((df.isna().mean()*100),2)).style.background_gradient('coolwarm'))\n",
    "    print('-------------------------------------------')"
   ]
  },
  {
   "cell_type": "code",
   "execution_count": 4,
   "id": "a9b1028b-db91-49ba-88e3-d5ece14e15f5",
   "metadata": {
    "tags": []
   },
   "outputs": [
    {
     "name": "stdout",
     "output_type": "stream",
     "text": [
      "-----------------------------------------\n",
      "<class 'pandas.core.frame.DataFrame'>\n",
      "RangeIndex: 1860042 entries, 0 to 1860041\n",
      "Data columns (total 18 columns):\n",
      " #   Column                    Dtype \n",
      "---  ------                    ----- \n",
      " 0   session_id                object\n",
      " 1   client_id                 object\n",
      " 2   visit_date                object\n",
      " 3   visit_time                object\n",
      " 4   visit_number              int64 \n",
      " 5   utm_source                object\n",
      " 6   utm_medium                object\n",
      " 7   utm_campaign              object\n",
      " 8   utm_adcontent             object\n",
      " 9   utm_keyword               object\n",
      " 10  device_category           object\n",
      " 11  device_os                 object\n",
      " 12  device_brand              object\n",
      " 13  device_model              object\n",
      " 14  device_screen_resolution  object\n",
      " 15  device_browser            object\n",
      " 16  geo_country               object\n",
      " 17  geo_city                  object\n",
      "dtypes: int64(1), object(17)\n",
      "memory usage: 255.4+ MB\n",
      "None\n",
      "-----------------------------------------\n"
     ]
    },
    {
     "data": {
      "text/html": [
       "<style type=\"text/css\">\n",
       "#T_815da_row0_col0, #T_815da_row1_col0, #T_815da_row2_col0, #T_815da_row3_col0, #T_815da_row4_col0, #T_815da_row5_col0, #T_815da_row6_col0, #T_815da_row10_col0, #T_815da_row14_col0, #T_815da_row15_col0, #T_815da_row16_col0, #T_815da_row17_col0 {\n",
       "  background-color: #3b4cc0;\n",
       "  color: #f1f1f1;\n",
       "}\n",
       "#T_815da_row7_col0 {\n",
       "  background-color: #5f7fe8;\n",
       "  color: #f1f1f1;\n",
       "}\n",
       "#T_815da_row8_col0 {\n",
       "  background-color: #7597f6;\n",
       "  color: #f1f1f1;\n",
       "}\n",
       "#T_815da_row9_col0 {\n",
       "  background-color: #f0cdbb;\n",
       "  color: #000000;\n",
       "}\n",
       "#T_815da_row11_col0 {\n",
       "  background-color: #efcfbf;\n",
       "  color: #000000;\n",
       "}\n",
       "#T_815da_row12_col0 {\n",
       "  background-color: #7a9df8;\n",
       "  color: #f1f1f1;\n",
       "}\n",
       "#T_815da_row13_col0 {\n",
       "  background-color: #b40426;\n",
       "  color: #f1f1f1;\n",
       "}\n",
       "</style>\n",
       "<table id=\"T_815da\">\n",
       "  <thead>\n",
       "    <tr>\n",
       "      <th class=\"blank level0\" >&nbsp;</th>\n",
       "      <th id=\"T_815da_level0_col0\" class=\"col_heading level0 col0\" >0</th>\n",
       "    </tr>\n",
       "  </thead>\n",
       "  <tbody>\n",
       "    <tr>\n",
       "      <th id=\"T_815da_level0_row0\" class=\"row_heading level0 row0\" >session_id</th>\n",
       "      <td id=\"T_815da_row0_col0\" class=\"data row0 col0\" >0.000000</td>\n",
       "    </tr>\n",
       "    <tr>\n",
       "      <th id=\"T_815da_level0_row1\" class=\"row_heading level0 row1\" >client_id</th>\n",
       "      <td id=\"T_815da_row1_col0\" class=\"data row1 col0\" >0.000000</td>\n",
       "    </tr>\n",
       "    <tr>\n",
       "      <th id=\"T_815da_level0_row2\" class=\"row_heading level0 row2\" >visit_date</th>\n",
       "      <td id=\"T_815da_row2_col0\" class=\"data row2 col0\" >0.000000</td>\n",
       "    </tr>\n",
       "    <tr>\n",
       "      <th id=\"T_815da_level0_row3\" class=\"row_heading level0 row3\" >visit_time</th>\n",
       "      <td id=\"T_815da_row3_col0\" class=\"data row3 col0\" >0.000000</td>\n",
       "    </tr>\n",
       "    <tr>\n",
       "      <th id=\"T_815da_level0_row4\" class=\"row_heading level0 row4\" >visit_number</th>\n",
       "      <td id=\"T_815da_row4_col0\" class=\"data row4 col0\" >0.000000</td>\n",
       "    </tr>\n",
       "    <tr>\n",
       "      <th id=\"T_815da_level0_row5\" class=\"row_heading level0 row5\" >utm_source</th>\n",
       "      <td id=\"T_815da_row5_col0\" class=\"data row5 col0\" >0.010000</td>\n",
       "    </tr>\n",
       "    <tr>\n",
       "      <th id=\"T_815da_level0_row6\" class=\"row_heading level0 row6\" >utm_medium</th>\n",
       "      <td id=\"T_815da_row6_col0\" class=\"data row6 col0\" >0.000000</td>\n",
       "    </tr>\n",
       "    <tr>\n",
       "      <th id=\"T_815da_level0_row7\" class=\"row_heading level0 row7\" >utm_campaign</th>\n",
       "      <td id=\"T_815da_row7_col0\" class=\"data row7 col0\" >11.810000</td>\n",
       "    </tr>\n",
       "    <tr>\n",
       "      <th id=\"T_815da_level0_row8\" class=\"row_heading level0 row8\" >utm_adcontent</th>\n",
       "      <td id=\"T_815da_row8_col0\" class=\"data row8 col0\" >18.040000</td>\n",
       "    </tr>\n",
       "    <tr>\n",
       "      <th id=\"T_815da_level0_row9\" class=\"row_heading level0 row9\" >utm_keyword</th>\n",
       "      <td id=\"T_815da_row9_col0\" class=\"data row9 col0\" >58.170000</td>\n",
       "    </tr>\n",
       "    <tr>\n",
       "      <th id=\"T_815da_level0_row10\" class=\"row_heading level0 row10\" >device_category</th>\n",
       "      <td id=\"T_815da_row10_col0\" class=\"data row10 col0\" >0.000000</td>\n",
       "    </tr>\n",
       "    <tr>\n",
       "      <th id=\"T_815da_level0_row11\" class=\"row_heading level0 row11\" >device_os</th>\n",
       "      <td id=\"T_815da_row11_col0\" class=\"data row11 col0\" >57.530000</td>\n",
       "    </tr>\n",
       "    <tr>\n",
       "      <th id=\"T_815da_level0_row12\" class=\"row_heading level0 row12\" >device_brand</th>\n",
       "      <td id=\"T_815da_row12_col0\" class=\"data row12 col0\" >19.740000</td>\n",
       "    </tr>\n",
       "    <tr>\n",
       "      <th id=\"T_815da_level0_row13\" class=\"row_heading level0 row13\" >device_model</th>\n",
       "      <td id=\"T_815da_row13_col0\" class=\"data row13 col0\" >99.120000</td>\n",
       "    </tr>\n",
       "    <tr>\n",
       "      <th id=\"T_815da_level0_row14\" class=\"row_heading level0 row14\" >device_screen_resolution</th>\n",
       "      <td id=\"T_815da_row14_col0\" class=\"data row14 col0\" >0.000000</td>\n",
       "    </tr>\n",
       "    <tr>\n",
       "      <th id=\"T_815da_level0_row15\" class=\"row_heading level0 row15\" >device_browser</th>\n",
       "      <td id=\"T_815da_row15_col0\" class=\"data row15 col0\" >0.000000</td>\n",
       "    </tr>\n",
       "    <tr>\n",
       "      <th id=\"T_815da_level0_row16\" class=\"row_heading level0 row16\" >geo_country</th>\n",
       "      <td id=\"T_815da_row16_col0\" class=\"data row16 col0\" >0.000000</td>\n",
       "    </tr>\n",
       "    <tr>\n",
       "      <th id=\"T_815da_level0_row17\" class=\"row_heading level0 row17\" >geo_city</th>\n",
       "      <td id=\"T_815da_row17_col0\" class=\"data row17 col0\" >0.000000</td>\n",
       "    </tr>\n",
       "  </tbody>\n",
       "</table>\n"
      ],
      "text/plain": [
       "<pandas.io.formats.style.Styler at 0x154987d8e50>"
      ]
     },
     "metadata": {},
     "output_type": "display_data"
    },
    {
     "name": "stdout",
     "output_type": "stream",
     "text": [
      "-------------------------------------------\n"
     ]
    }
   ],
   "source": [
    "df_info(df)"
   ]
  },
  {
   "cell_type": "code",
   "execution_count": null,
   "id": "0317bc86-5fc5-4b55-9130-27647c21bd25",
   "metadata": {},
   "outputs": [],
   "source": []
  },
  {
   "cell_type": "code",
   "execution_count": 6,
   "id": "f6f641e7-adb8-45ce-a807-eabf1c216d56",
   "metadata": {
    "tags": []
   },
   "outputs": [
    {
     "data": {
      "text/plain": [
       "(1860042, 18)"
      ]
     },
     "execution_count": 6,
     "metadata": {},
     "output_type": "execute_result"
    }
   ],
   "source": [
    "df.shape"
   ]
  },
  {
   "cell_type": "code",
   "execution_count": 3,
   "id": "a3b690b4-43e8-424a-97dd-43e094446f13",
   "metadata": {
    "tags": []
   },
   "outputs": [
    {
     "data": {
      "text/plain": [
       "Index(['session_id', 'client_id', 'visit_date', 'visit_time', 'visit_number',\n",
       "       'utm_source', 'utm_medium', 'utm_campaign', 'utm_adcontent',\n",
       "       'utm_keyword', 'device_category', 'device_os', 'device_brand',\n",
       "       'device_model', 'device_screen_resolution', 'device_browser',\n",
       "       'geo_country', 'geo_city'],\n",
       "      dtype='object')"
      ]
     },
     "execution_count": 3,
     "metadata": {},
     "output_type": "execute_result"
    }
   ],
   "source": [
    "df.columns"
   ]
  },
  {
   "cell_type": "code",
   "execution_count": 47,
   "id": "6fe98e46-1175-49d6-8e5d-99253fec8ee8",
   "metadata": {
    "tags": []
   },
   "outputs": [
    {
     "name": "stdout",
     "output_type": "stream",
     "text": [
      "<class 'pandas.core.frame.DataFrame'>\n",
      "RangeIndex: 1860042 entries, 0 to 1860041\n",
      "Data columns (total 18 columns):\n",
      " #   Column                    Non-Null Count    Dtype \n",
      "---  ------                    --------------    ----- \n",
      " 0   session_id                1860042 non-null  object\n",
      " 1   client_id                 1860042 non-null  object\n",
      " 2   visit_date                1860042 non-null  object\n",
      " 3   visit_time                1860042 non-null  object\n",
      " 4   visit_number              1860042 non-null  int64 \n",
      " 5   utm_source                1859945 non-null  object\n",
      " 6   utm_medium                1860042 non-null  object\n",
      " 7   utm_campaign              1640439 non-null  object\n",
      " 8   utm_adcontent             1524427 non-null  object\n",
      " 9   utm_keyword               777981 non-null   object\n",
      " 10  device_category           1860042 non-null  object\n",
      " 11  device_os                 789904 non-null   object\n",
      " 12  device_brand              1492864 non-null  object\n",
      " 13  device_model              16338 non-null    object\n",
      " 14  device_screen_resolution  1860042 non-null  object\n",
      " 15  device_browser            1860042 non-null  object\n",
      " 16  geo_country               1860042 non-null  object\n",
      " 17  geo_city                  1860042 non-null  object\n",
      "dtypes: int64(1), object(17)\n",
      "memory usage: 255.4+ MB\n"
     ]
    }
   ],
   "source": [
    "df.info(verbose=True, show_counts=True)"
   ]
  },
  {
   "cell_type": "code",
   "execution_count": 46,
   "id": "ec6d9573-a148-4071-b482-d34b3b556226",
   "metadata": {
    "collapsed": true,
    "jupyter": {
     "outputs_hidden": true
    },
    "tags": []
   },
   "outputs": [
    {
     "data": {
      "text/plain": [
       "<Axes: >"
      ]
     },
     "execution_count": 46,
     "metadata": {},
     "output_type": "execute_result"
    },
    {
     "data": {
      "image/png": "[encoded data removed]",
      "text/plain": [
       "<Figure size 2500x1000 with 2 Axes>"
      ]
     },
     "metadata": {},
     "output_type": "display_data"
    }
   ],
   "source": [
    "msno.matrix(df)"
   ]
  },
  {
   "cell_type": "markdown",
   "id": "03ae15ea-e09e-4444-993e-7c39dbc36cd5",
   "metadata": {
    "tags": []
   },
   "source": [
    "### Data Preparation"
   ]
  },
  {
   "cell_type": "markdown",
   "id": "03110c8e-a297-4fd2-84ef-9b6c641b065e",
   "metadata": {
    "tags": []
   },
   "source": [
    "### Задача:"
   ]
  },
  {
   "cell_type": "markdown",
   "id": "3e5de7f9-430f-4632-8f6e-d41241dd2811",
   "metadata": {},
   "source": [
    "Разведовательный анализ EDA:\n",
    "1. Поиск дубликатов\n",
    "2. Пустые строки\n",
    "3. Формат столбцов\n",
    "4. Поиск аномальных значений\n",
    "5. Зависимость колонок"
   ]
  },
  {
   "cell_type": "markdown",
   "id": "a5879365-af46-4542-9ffc-1b91995f3a3c",
   "metadata": {
    "tags": []
   },
   "source": [
    "##### 1. Поиск дубликатов: При проверке дубликаты не найдены\n"
   ]
  },
  {
   "cell_type": "code",
   "execution_count": 4,
   "id": "a05c2296-186a-4931-93f2-dec66e35cc9f",
   "metadata": {
    "tags": []
   },
   "outputs": [
    {
     "data": {
      "text/plain": [
       "0          False\n",
       "1          False\n",
       "2          False\n",
       "3          False\n",
       "4          False\n",
       "           ...  \n",
       "1860037    False\n",
       "1860038    False\n",
       "1860039    False\n",
       "1860040    False\n",
       "1860041    False\n",
       "Length: 1860042, dtype: bool"
      ]
     },
     "execution_count": 4,
     "metadata": {},
     "output_type": "execute_result"
    }
   ],
   "source": [
    "df.duplicated() "
   ]
  },
  {
   "cell_type": "markdown",
   "id": "69cd16d3-8e77-4572-8075-2e7194f6ebe3",
   "metadata": {
    "tags": []
   },
   "source": [
    "##### 2. Пустые строки  \n"
   ]
  },
  {
   "cell_type": "code",
   "execution_count": 7,
   "id": "d2526815-b917-4ea3-bd84-f1c89874cfc3",
   "metadata": {
    "tags": []
   },
   "outputs": [
    {
     "data": {
      "text/plain": [
       "device_model                99.121633\n",
       "utm_keyword                 58.174009\n",
       "device_os                   57.533002\n",
       "device_brand                19.740307\n",
       "utm_adcontent               18.043410\n",
       "utm_campaign                11.806346\n",
       "utm_source                   0.005215\n",
       "geo_country                  0.000000\n",
       "device_browser               0.000000\n",
       "device_screen_resolution     0.000000\n",
       "session_id                   0.000000\n",
       "device_category              0.000000\n",
       "client_id                    0.000000\n",
       "utm_medium                   0.000000\n",
       "visit_number                 0.000000\n",
       "visit_time                   0.000000\n",
       "visit_date                   0.000000\n",
       "geo_city                     0.000000\n",
       "dtype: float64"
      ]
     },
     "execution_count": 7,
     "metadata": {},
     "output_type": "execute_result"
    }
   ],
   "source": [
    "missing_values = ((df.isna().sum() / len(df)) * 100).sort_values(ascending=False) # Проверяем %  заполнения столбцов\n",
    "missing_values"
   ]
  },
  {
   "cell_type": "code",
   "execution_count": 8,
   "id": "1db62ded-3aac-4a53-af39-3c8b547f8ae3",
   "metadata": {
    "tags": []
   },
   "outputs": [
    {
     "data": {
      "text/plain": [
       "['device_model',\n",
       " 'utm_keyword',\n",
       " 'device_os',\n",
       " 'device_brand',\n",
       " 'utm_adcontent',\n",
       " 'utm_campaign',\n",
       " 'utm_source']"
      ]
     },
     "execution_count": 8,
     "metadata": {},
     "output_type": "execute_result"
    }
   ],
   "source": [
    "missing_columns = missing_values[missing_values.values > 0].index.tolist() # Получаем отдельно список столбцов с незаполненными данными\n",
    "missing_columns"
   ]
  },
  {
   "cell_type": "markdown",
   "id": "5b05068d-78c5-41fd-9c04-b921e1c775e5",
   "metadata": {
    "tags": []
   },
   "source": [
    "##### Удаление столбцов "
   ]
  },
  {
   "cell_type": "code",
   "execution_count": 9,
   "id": "e01b665d-57a1-4365-9659-ab0646852c99",
   "metadata": {
    "tags": []
   },
   "outputs": [],
   "source": [
    "df_clean = df.copy()"
   ]
  },
  {
   "cell_type": "markdown",
   "id": "1c319b64-f554-45c0-8d7e-9d53ff76cc61",
   "metadata": {},
   "source": [
    "Принемаем решнение об удалении столбцов которые заполнены < 40%, так-как информации в них будет мало. Даже если мы заполним пропуки. missing_values нам показал что таких солбцов 3 device_model','utm_keyword','device_os'"
   ]
  },
  {
   "cell_type": "code",
   "execution_count": 10,
   "id": "5d823f2c-2bad-4759-86c3-b4ad012a84c7",
   "metadata": {},
   "outputs": [],
   "source": [
    "df_clean = df.drop(columns=['device_model','device_os','utm_keyword'], axis = 1) # Принемаю решение о удаление столбцов"
   ]
  },
  {
   "cell_type": "code",
   "execution_count": 11,
   "id": "05bf5ddb-1248-482f-8c57-efb9cf00ada8",
   "metadata": {},
   "outputs": [],
   "source": [
    "def print_useful_rows_info(df): \n",
    "    print(\"Количество полностью заполненных объектов из всей выборки:\", len(df.dropna()))\n",
    "    print(\"Процент полностью заполненных объектов из всей выборки:\", round(len(df.dropna()) / len(df) * 100, 2))\n"
   ]
  },
  {
   "cell_type": "code",
   "execution_count": 12,
   "id": "0a8b6fa9-9f76-4f54-bb7b-027eea6b1adf",
   "metadata": {
    "tags": []
   },
   "outputs": [
    {
     "name": "stdout",
     "output_type": "stream",
     "text": [
      "Количество полностью заполненных объектов из всей выборки: 14940\n",
      "Процент полностью заполненных объектов из всей выборки: 0.8\n"
     ]
    }
   ],
   "source": [
    "print_useful_rows_info(df)"
   ]
  },
  {
   "cell_type": "code",
   "execution_count": 13,
   "id": "0311f2ee-0f2b-481b-b70d-4612712dbc26",
   "metadata": {
    "tags": []
   },
   "outputs": [
    {
     "name": "stdout",
     "output_type": "stream",
     "text": [
      "Количество полностью заполненных объектов из всей выборки: 1230859\n",
      "Процент полностью заполненных объектов из всей выборки: 66.17\n"
     ]
    }
   ],
   "source": [
    "print_useful_rows_info(df_clean)"
   ]
  },
  {
   "cell_type": "markdown",
   "id": "4d459f28-324b-4b16-a71c-ea3334e8a010",
   "metadata": {
    "tags": []
   },
   "source": [
    "##### Заполнение пропусков"
   ]
  },
  {
   "cell_type": "markdown",
   "id": "0ff2e554-721d-45de-8272-e2ebdedce9f1",
   "metadata": {},
   "source": [
    "В столбцах в которых заполнение > 40 процентов мы можем заполнить пропуски \"Дригие\", так мы сможем получить информацию из заполненых колонок"
   ]
  },
  {
   "cell_type": "code",
   "execution_count": 14,
   "id": "06a61b06-565a-42c4-adff-cc6a5ffe8270",
   "metadata": {
    "tags": []
   },
   "outputs": [],
   "source": [
    "df_clean.device_brand = df_clean.device_brand.fillna((df_clean.device_brand.mode())[0])# заполнчем пропуск 'модой'(самое популярное значение), считаю тут самый оптимальный вариант\n",
    "df_clean.utm_source = df_clean.utm_source.fillna((df_clean.utm_source.mode())[0])"
   ]
  },
  {
   "cell_type": "code",
   "execution_count": 15,
   "id": "e2a52156-4ead-45e1-815f-e2c1c25627ff",
   "metadata": {
    "tags": []
   },
   "outputs": [],
   "source": [
    "# В этих колонках заменяем на 'другие'\n",
    "df_clean.utm_adcontent = df_clean.utm_adcontent.fillna('other')\n",
    "df_clean.utm_campaign = df_clean.utm_campaign.fillna('other')\n"
   ]
  },
  {
   "cell_type": "markdown",
   "id": "8168c42a-7947-41f0-ac1d-2b530bed0abf",
   "metadata": {
    "tags": []
   },
   "source": [
    "##### Формат столбцов"
   ]
  },
  {
   "cell_type": "markdown",
   "id": "c9d86147-43db-4797-a68e-622d4c38f31d",
   "metadata": {},
   "source": [
    "После обьеденения 2 колонок visit_date visit_time, изначальные колонки удаляем чтобы не загружать dataset"
   ]
  },
  {
   "cell_type": "code",
   "execution_count": 16,
   "id": "9d450eab-ed5d-47cd-93cd-9f0516f0450c",
   "metadata": {
    "tags": []
   },
   "outputs": [],
   "source": [
    "df_clean['date_visit_time'] = pd.to_datetime(df_clean['visit_date'] + ' ' + df_clean['visit_time']) # обьеденяем и меняем формат столбцу visit_date "
   ]
  },
  {
   "cell_type": "code",
   "execution_count": 17,
   "id": "5a008f74-3e55-437f-ac3c-1f47c4a74c28",
   "metadata": {},
   "outputs": [],
   "source": [
    "# удаляем колонки которые теперь не нужны visit_date visit_time\n",
    "df_clean = df_clean.drop('visit_date', axis = 1)\n",
    "df_clean = df_clean.drop('visit_time', axis = 1)"
   ]
  },
  {
   "cell_type": "code",
   "execution_count": 18,
   "id": "e1852436-de20-4931-98c7-11ab618788e9",
   "metadata": {
    "tags": []
   },
   "outputs": [
    {
     "data": {
      "text/html": [
       "<div>\n",
       "<style scoped>\n",
       "    .dataframe tbody tr th:only-of-type {\n",
       "        vertical-align: middle;\n",
       "    }\n",
       "\n",
       "    .dataframe tbody tr th {\n",
       "        vertical-align: top;\n",
       "    }\n",
       "\n",
       "    .dataframe thead th {\n",
       "        text-align: right;\n",
       "    }\n",
       "</style>\n",
       "<table border=\"1\" class=\"dataframe\">\n",
       "  <thead>\n",
       "    <tr style=\"text-align: right;\">\n",
       "      <th></th>\n",
       "      <th>session_id</th>\n",
       "      <th>client_id</th>\n",
       "      <th>visit_number</th>\n",
       "      <th>utm_source</th>\n",
       "      <th>utm_medium</th>\n",
       "      <th>utm_campaign</th>\n",
       "      <th>utm_adcontent</th>\n",
       "      <th>device_category</th>\n",
       "      <th>device_brand</th>\n",
       "      <th>device_screen_resolution</th>\n",
       "      <th>device_browser</th>\n",
       "      <th>geo_country</th>\n",
       "      <th>geo_city</th>\n",
       "      <th>date_visit_time</th>\n",
       "    </tr>\n",
       "  </thead>\n",
       "  <tbody>\n",
       "    <tr>\n",
       "      <th>0</th>\n",
       "      <td>9055434745589932991.1637753792.1637753792</td>\n",
       "      <td>2108382700.1637753791</td>\n",
       "      <td>1</td>\n",
       "      <td>ZpYIoDJMcFzVoPFsHGJL</td>\n",
       "      <td>banner</td>\n",
       "      <td>LEoPHuyFvzoNfnzGgfcd</td>\n",
       "      <td>vCIpmpaGBnIQhyYNkXqp</td>\n",
       "      <td>mobile</td>\n",
       "      <td>Huawei</td>\n",
       "      <td>360x720</td>\n",
       "      <td>Chrome</td>\n",
       "      <td>Russia</td>\n",
       "      <td>Zlatoust</td>\n",
       "      <td>2021-11-24 14:36:32</td>\n",
       "    </tr>\n",
       "    <tr>\n",
       "      <th>1</th>\n",
       "      <td>905544597018549464.1636867290.1636867290</td>\n",
       "      <td>210838531.1636867288</td>\n",
       "      <td>1</td>\n",
       "      <td>MvfHsxITijuriZxsqZqt</td>\n",
       "      <td>cpm</td>\n",
       "      <td>FTjNLDyTrXaWYgZymFkV</td>\n",
       "      <td>xhoenQgDQsgfEPYNPwKO</td>\n",
       "      <td>mobile</td>\n",
       "      <td>Samsung</td>\n",
       "      <td>385x854</td>\n",
       "      <td>Samsung Internet</td>\n",
       "      <td>Russia</td>\n",
       "      <td>Moscow</td>\n",
       "      <td>2021-11-14 08:21:30</td>\n",
       "    </tr>\n",
       "    <tr>\n",
       "      <th>2</th>\n",
       "      <td>9055446045651783499.1640648526.1640648526</td>\n",
       "      <td>2108385331.1640648523</td>\n",
       "      <td>1</td>\n",
       "      <td>ZpYIoDJMcFzVoPFsHGJL</td>\n",
       "      <td>banner</td>\n",
       "      <td>LEoPHuyFvzoNfnzGgfcd</td>\n",
       "      <td>vCIpmpaGBnIQhyYNkXqp</td>\n",
       "      <td>mobile</td>\n",
       "      <td>Huawei</td>\n",
       "      <td>360x720</td>\n",
       "      <td>Chrome</td>\n",
       "      <td>Russia</td>\n",
       "      <td>Krasnoyarsk</td>\n",
       "      <td>2021-12-28 02:42:06</td>\n",
       "    </tr>\n",
       "    <tr>\n",
       "      <th>3</th>\n",
       "      <td>9055447046360770272.1622255328.1622255328</td>\n",
       "      <td>2108385564.1622255328</td>\n",
       "      <td>1</td>\n",
       "      <td>kjsLglQLzykiRbcDiGcD</td>\n",
       "      <td>cpc</td>\n",
       "      <td>other</td>\n",
       "      <td>NOBKLgtuvqYWkXQHeYWM</td>\n",
       "      <td>mobile</td>\n",
       "      <td>Xiaomi</td>\n",
       "      <td>393x786</td>\n",
       "      <td>Chrome</td>\n",
       "      <td>Russia</td>\n",
       "      <td>Moscow</td>\n",
       "      <td>2021-05-29 05:00:00</td>\n",
       "    </tr>\n",
       "    <tr>\n",
       "      <th>4</th>\n",
       "      <td>9055447046360770272.1622255345.1622255345</td>\n",
       "      <td>2108385564.1622255328</td>\n",
       "      <td>2</td>\n",
       "      <td>kjsLglQLzykiRbcDiGcD</td>\n",
       "      <td>cpc</td>\n",
       "      <td>other</td>\n",
       "      <td>other</td>\n",
       "      <td>mobile</td>\n",
       "      <td>Xiaomi</td>\n",
       "      <td>393x786</td>\n",
       "      <td>Chrome</td>\n",
       "      <td>Russia</td>\n",
       "      <td>Moscow</td>\n",
       "      <td>2021-05-29 05:00:00</td>\n",
       "    </tr>\n",
       "  </tbody>\n",
       "</table>\n",
       "</div>"
      ],
      "text/plain": [
       "                                  session_id              client_id  \\\n",
       "0  9055434745589932991.1637753792.1637753792  2108382700.1637753791   \n",
       "1   905544597018549464.1636867290.1636867290   210838531.1636867288   \n",
       "2  9055446045651783499.1640648526.1640648526  2108385331.1640648523   \n",
       "3  9055447046360770272.1622255328.1622255328  2108385564.1622255328   \n",
       "4  9055447046360770272.1622255345.1622255345  2108385564.1622255328   \n",
       "\n",
       "   visit_number            utm_source utm_medium          utm_campaign  \\\n",
       "0             1  ZpYIoDJMcFzVoPFsHGJL     banner  LEoPHuyFvzoNfnzGgfcd   \n",
       "1             1  MvfHsxITijuriZxsqZqt        cpm  FTjNLDyTrXaWYgZymFkV   \n",
       "2             1  ZpYIoDJMcFzVoPFsHGJL     banner  LEoPHuyFvzoNfnzGgfcd   \n",
       "3             1  kjsLglQLzykiRbcDiGcD        cpc                 other   \n",
       "4             2  kjsLglQLzykiRbcDiGcD        cpc                 other   \n",
       "\n",
       "          utm_adcontent device_category device_brand device_screen_resolution  \\\n",
       "0  vCIpmpaGBnIQhyYNkXqp          mobile       Huawei                  360x720   \n",
       "1  xhoenQgDQsgfEPYNPwKO          mobile      Samsung                  385x854   \n",
       "2  vCIpmpaGBnIQhyYNkXqp          mobile       Huawei                  360x720   \n",
       "3  NOBKLgtuvqYWkXQHeYWM          mobile       Xiaomi                  393x786   \n",
       "4                 other          mobile       Xiaomi                  393x786   \n",
       "\n",
       "     device_browser geo_country     geo_city     date_visit_time  \n",
       "0            Chrome      Russia     Zlatoust 2021-11-24 14:36:32  \n",
       "1  Samsung Internet      Russia       Moscow 2021-11-14 08:21:30  \n",
       "2            Chrome      Russia  Krasnoyarsk 2021-12-28 02:42:06  \n",
       "3            Chrome      Russia       Moscow 2021-05-29 05:00:00  \n",
       "4            Chrome      Russia       Moscow 2021-05-29 05:00:00  "
      ]
     },
     "execution_count": 18,
     "metadata": {},
     "output_type": "execute_result"
    }
   ],
   "source": [
    "df_clean.head()"
   ]
  },
  {
   "cell_type": "markdown",
   "id": "a470d087-aba6-4e71-ae56-3c8cc80e76d0",
   "metadata": {
    "tags": []
   },
   "source": [
    "## Ga_Hits"
   ]
  },
  {
   "cell_type": "markdown",
   "id": "cbf3e7a3-884a-4d66-9449-d4e5d1bab924",
   "metadata": {},
   "source": [
    "* session_id — ID визита\n",
    "* hit_date — дата события\n",
    "* hit_time — время события\n",
    "* hit_number — порядковый номер события в рамках сессии\n",
    "* hit_type — тип события\n",
    "* hit_referer — источник события\n",
    "* hit_page_path — страница события\n",
    "* event_category — тип действия\n",
    "* event_action — действие\n",
    "* event_label — тег действия\n",
    "* event_value — значение результата действия\n"
   ]
  },
  {
   "cell_type": "markdown",
   "id": "8a5b2bf4-1cb9-449a-9fee-bae9aa26407a",
   "metadata": {},
   "source": [
    "### Знакомство с dataset'om"
   ]
  },
  {
   "cell_type": "markdown",
   "id": "fd5ff215-7a30-4ed9-98ee-78f2044cb094",
   "metadata": {},
   "source": [
    "План работ:\n",
    "* Загрузить dataset(df)  и вывести 5 первых строк \n",
    "* shape посмотрим сколько строк и колонок в df \n",
    "* colomns смотрим какие колонки в df \n",
    "* info() смотрим заполниность колонок и формат колонок\n",
    "* msno.matrix Покажет наглядно какие строки отсутствую\n",
    "* copy() делаем копию df чтобы можно было вернутся обратно, если это понадобится\n"
   ]
  },
  {
   "cell_type": "code",
   "execution_count": 7,
   "id": "12f831b0-c476-438c-86d3-2bd0ac242474",
   "metadata": {},
   "outputs": [],
   "source": [
    "def convert_int(x):\n",
    "    if len(x) == 0:\n",
    "        return 0\n",
    "    return int(x.split('.')[0])\n",
    " \n",
    "def convert_float(x):\n",
    "    if len(x) == 0:\n",
    "        return np.nan\n",
    "    return float(x)\n",
    "\n",
    "\n",
    "df_hits = pd.read_csv('data/ga_hits.csv', low_memory=False, usecols= ['session_id','hit_date', 'hit_time', 'hit_number', 'hit_type','hit_referer','hit_page_path','event_category','event_action','event_label', 'event_value'], converters={'hit_time' : convert_int ,'event_value' : convert_int})"
   ]
  },
  {
   "cell_type": "code",
   "execution_count": 13,
   "id": "fa9da7e1-d397-40bb-bc6d-cfef288b056e",
   "metadata": {
    "tags": []
   },
   "outputs": [],
   "source": [
    "def df_info(data):\n",
    "    print('-----------------------------------------')\n",
    "    print(data.info())\n",
    "    print('-----------------------------------------')\n",
    "    display(pd.DataFrame(round((df_hits.isna().mean()*100),2)).style.background_gradient('coolwarm'))\n",
    "    print('-------------------------------------------')"
   ]
  },
  {
   "cell_type": "code",
   "execution_count": 14,
   "id": "b5419506-e282-4330-862f-b47e2c4354be",
   "metadata": {
    "tags": []
   },
   "outputs": [
    {
     "name": "stdout",
     "output_type": "stream",
     "text": [
      "-----------------------------------------\n",
      "<class 'pandas.core.frame.DataFrame'>\n",
      "RangeIndex: 15726470 entries, 0 to 15726469\n",
      "Data columns (total 11 columns):\n",
      " #   Column          Dtype \n",
      "---  ------          ----- \n",
      " 0   session_id      object\n",
      " 1   hit_date        object\n",
      " 2   hit_time        int64 \n",
      " 3   hit_number      int64 \n",
      " 4   hit_type        object\n",
      " 5   hit_referer     object\n",
      " 6   hit_page_path   object\n",
      " 7   event_category  object\n",
      " 8   event_action    object\n",
      " 9   event_label     object\n",
      " 10  event_value     int64 \n",
      "dtypes: int64(3), object(8)\n",
      "memory usage: 1.3+ GB\n",
      "None\n",
      "-----------------------------------------\n"
     ]
    },
    {
     "data": {
      "text/html": [
       "<style type=\"text/css\">\n",
       "#T_6c657_row0_col0, #T_6c657_row1_col0, #T_6c657_row2_col0, #T_6c657_row3_col0, #T_6c657_row4_col0, #T_6c657_row6_col0, #T_6c657_row7_col0, #T_6c657_row8_col0, #T_6c657_row10_col0 {\n",
       "  background-color: #3b4cc0;\n",
       "  color: #f1f1f1;\n",
       "}\n",
       "#T_6c657_row5_col0 {\n",
       "  background-color: #b40426;\n",
       "  color: #f1f1f1;\n",
       "}\n",
       "#T_6c657_row9_col0 {\n",
       "  background-color: #f2cbb7;\n",
       "  color: #000000;\n",
       "}\n",
       "</style>\n",
       "<table id=\"T_6c657\">\n",
       "  <thead>\n",
       "    <tr>\n",
       "      <th class=\"blank level0\" >&nbsp;</th>\n",
       "      <th id=\"T_6c657_level0_col0\" class=\"col_heading level0 col0\" >0</th>\n",
       "    </tr>\n",
       "  </thead>\n",
       "  <tbody>\n",
       "    <tr>\n",
       "      <th id=\"T_6c657_level0_row0\" class=\"row_heading level0 row0\" >session_id</th>\n",
       "      <td id=\"T_6c657_row0_col0\" class=\"data row0 col0\" >0.000000</td>\n",
       "    </tr>\n",
       "    <tr>\n",
       "      <th id=\"T_6c657_level0_row1\" class=\"row_heading level0 row1\" >hit_date</th>\n",
       "      <td id=\"T_6c657_row1_col0\" class=\"data row1 col0\" >0.000000</td>\n",
       "    </tr>\n",
       "    <tr>\n",
       "      <th id=\"T_6c657_level0_row2\" class=\"row_heading level0 row2\" >hit_time</th>\n",
       "      <td id=\"T_6c657_row2_col0\" class=\"data row2 col0\" >0.000000</td>\n",
       "    </tr>\n",
       "    <tr>\n",
       "      <th id=\"T_6c657_level0_row3\" class=\"row_heading level0 row3\" >hit_number</th>\n",
       "      <td id=\"T_6c657_row3_col0\" class=\"data row3 col0\" >0.000000</td>\n",
       "    </tr>\n",
       "    <tr>\n",
       "      <th id=\"T_6c657_level0_row4\" class=\"row_heading level0 row4\" >hit_type</th>\n",
       "      <td id=\"T_6c657_row4_col0\" class=\"data row4 col0\" >0.000000</td>\n",
       "    </tr>\n",
       "    <tr>\n",
       "      <th id=\"T_6c657_level0_row5\" class=\"row_heading level0 row5\" >hit_referer</th>\n",
       "      <td id=\"T_6c657_row5_col0\" class=\"data row5 col0\" >39.900000</td>\n",
       "    </tr>\n",
       "    <tr>\n",
       "      <th id=\"T_6c657_level0_row6\" class=\"row_heading level0 row6\" >hit_page_path</th>\n",
       "      <td id=\"T_6c657_row6_col0\" class=\"data row6 col0\" >0.000000</td>\n",
       "    </tr>\n",
       "    <tr>\n",
       "      <th id=\"T_6c657_level0_row7\" class=\"row_heading level0 row7\" >event_category</th>\n",
       "      <td id=\"T_6c657_row7_col0\" class=\"data row7 col0\" >0.000000</td>\n",
       "    </tr>\n",
       "    <tr>\n",
       "      <th id=\"T_6c657_level0_row8\" class=\"row_heading level0 row8\" >event_action</th>\n",
       "      <td id=\"T_6c657_row8_col0\" class=\"data row8 col0\" >0.000000</td>\n",
       "    </tr>\n",
       "    <tr>\n",
       "      <th id=\"T_6c657_level0_row9\" class=\"row_heading level0 row9\" >event_label</th>\n",
       "      <td id=\"T_6c657_row9_col0\" class=\"data row9 col0\" >23.910000</td>\n",
       "    </tr>\n",
       "    <tr>\n",
       "      <th id=\"T_6c657_level0_row10\" class=\"row_heading level0 row10\" >event_value</th>\n",
       "      <td id=\"T_6c657_row10_col0\" class=\"data row10 col0\" >0.000000</td>\n",
       "    </tr>\n",
       "  </tbody>\n",
       "</table>\n"
      ],
      "text/plain": [
       "<pandas.io.formats.style.Styler at 0x15480e22290>"
      ]
     },
     "metadata": {},
     "output_type": "display_data"
    },
    {
     "name": "stdout",
     "output_type": "stream",
     "text": [
      "-------------------------------------------\n"
     ]
    }
   ],
   "source": [
    "df_info(df_hits)"
   ]
  },
  {
   "cell_type": "code",
   "execution_count": 11,
   "id": "453ae288-7eeb-4117-b573-42af752ec80c",
   "metadata": {
    "tags": []
   },
   "outputs": [
    {
     "data": {
      "text/html": [
       "<div>\n",
       "<style scoped>\n",
       "    .dataframe tbody tr th:only-of-type {\n",
       "        vertical-align: middle;\n",
       "    }\n",
       "\n",
       "    .dataframe tbody tr th {\n",
       "        vertical-align: top;\n",
       "    }\n",
       "\n",
       "    .dataframe thead th {\n",
       "        text-align: right;\n",
       "    }\n",
       "</style>\n",
       "<table border=\"1\" class=\"dataframe\">\n",
       "  <thead>\n",
       "    <tr style=\"text-align: right;\">\n",
       "      <th></th>\n",
       "      <th>session_id</th>\n",
       "      <th>hit_date</th>\n",
       "      <th>hit_time</th>\n",
       "      <th>hit_number</th>\n",
       "      <th>hit_type</th>\n",
       "      <th>hit_referer</th>\n",
       "      <th>hit_page_path</th>\n",
       "      <th>event_category</th>\n",
       "      <th>event_action</th>\n",
       "      <th>event_label</th>\n",
       "      <th>event_value</th>\n",
       "    </tr>\n",
       "  </thead>\n",
       "  <tbody>\n",
       "    <tr>\n",
       "      <th>0</th>\n",
       "      <td>5639623078712724064.1640254056.1640254056</td>\n",
       "      <td>2021-12-23</td>\n",
       "      <td>597864</td>\n",
       "      <td>30</td>\n",
       "      <td>event</td>\n",
       "      <td>NaN</td>\n",
       "      <td>sberauto.com/cars?utm_source_initial=google&amp;ut...</td>\n",
       "      <td>quiz</td>\n",
       "      <td>quiz_show</td>\n",
       "      <td>NaN</td>\n",
       "      <td>0</td>\n",
       "    </tr>\n",
       "    <tr>\n",
       "      <th>1</th>\n",
       "      <td>7750352294969115059.1640271109.1640271109</td>\n",
       "      <td>2021-12-23</td>\n",
       "      <td>597331</td>\n",
       "      <td>41</td>\n",
       "      <td>event</td>\n",
       "      <td>NaN</td>\n",
       "      <td>sberauto.com/cars/fiat?city=1&amp;city=18&amp;rental_c...</td>\n",
       "      <td>quiz</td>\n",
       "      <td>quiz_show</td>\n",
       "      <td>NaN</td>\n",
       "      <td>0</td>\n",
       "    </tr>\n",
       "    <tr>\n",
       "      <th>2</th>\n",
       "      <td>885342191847998240.1640235807.1640235807</td>\n",
       "      <td>2021-12-23</td>\n",
       "      <td>796252</td>\n",
       "      <td>49</td>\n",
       "      <td>event</td>\n",
       "      <td>NaN</td>\n",
       "      <td>sberauto.com/cars/all/volkswagen/polo/e994838f...</td>\n",
       "      <td>quiz</td>\n",
       "      <td>quiz_show</td>\n",
       "      <td>NaN</td>\n",
       "      <td>0</td>\n",
       "    </tr>\n",
       "    <tr>\n",
       "      <th>3</th>\n",
       "      <td>142526202120934167.1640211014.1640211014</td>\n",
       "      <td>2021-12-23</td>\n",
       "      <td>934292</td>\n",
       "      <td>46</td>\n",
       "      <td>event</td>\n",
       "      <td>NaN</td>\n",
       "      <td>sberauto.com/cars?utm_source_initial=yandex&amp;ut...</td>\n",
       "      <td>quiz</td>\n",
       "      <td>quiz_show</td>\n",
       "      <td>NaN</td>\n",
       "      <td>0</td>\n",
       "    </tr>\n",
       "    <tr>\n",
       "      <th>4</th>\n",
       "      <td>3450086108837475701.1640265078.1640265078</td>\n",
       "      <td>2021-12-23</td>\n",
       "      <td>768741</td>\n",
       "      <td>79</td>\n",
       "      <td>event</td>\n",
       "      <td>NaN</td>\n",
       "      <td>sberauto.com/cars/all/mercedes-benz/cla-klasse...</td>\n",
       "      <td>quiz</td>\n",
       "      <td>quiz_show</td>\n",
       "      <td>NaN</td>\n",
       "      <td>0</td>\n",
       "    </tr>\n",
       "  </tbody>\n",
       "</table>\n",
       "</div>"
      ],
      "text/plain": [
       "                                  session_id    hit_date  hit_time  \\\n",
       "0  5639623078712724064.1640254056.1640254056  2021-12-23    597864   \n",
       "1  7750352294969115059.1640271109.1640271109  2021-12-23    597331   \n",
       "2   885342191847998240.1640235807.1640235807  2021-12-23    796252   \n",
       "3   142526202120934167.1640211014.1640211014  2021-12-23    934292   \n",
       "4  3450086108837475701.1640265078.1640265078  2021-12-23    768741   \n",
       "\n",
       "   hit_number hit_type hit_referer  \\\n",
       "0          30    event         NaN   \n",
       "1          41    event         NaN   \n",
       "2          49    event         NaN   \n",
       "3          46    event         NaN   \n",
       "4          79    event         NaN   \n",
       "\n",
       "                                       hit_page_path event_category  \\\n",
       "0  sberauto.com/cars?utm_source_initial=google&ut...           quiz   \n",
       "1  sberauto.com/cars/fiat?city=1&city=18&rental_c...           quiz   \n",
       "2  sberauto.com/cars/all/volkswagen/polo/e994838f...           quiz   \n",
       "3  sberauto.com/cars?utm_source_initial=yandex&ut...           quiz   \n",
       "4  sberauto.com/cars/all/mercedes-benz/cla-klasse...           quiz   \n",
       "\n",
       "  event_action event_label  event_value  \n",
       "0    quiz_show         NaN            0  \n",
       "1    quiz_show         NaN            0  \n",
       "2    quiz_show         NaN            0  \n",
       "3    quiz_show         NaN            0  \n",
       "4    quiz_show         NaN            0  "
      ]
     },
     "execution_count": 11,
     "metadata": {},
     "output_type": "execute_result"
    }
   ],
   "source": [
    "df_hits.head()"
   ]
  },
  {
   "cell_type": "code",
   "execution_count": 55,
   "id": "2dd55633-eae3-42b4-a01a-1674dafab210",
   "metadata": {
    "tags": []
   },
   "outputs": [
    {
     "data": {
      "text/plain": [
       "(15726470, 11)"
      ]
     },
     "execution_count": 55,
     "metadata": {},
     "output_type": "execute_result"
    }
   ],
   "source": [
    "df_hits.shape"
   ]
  },
  {
   "cell_type": "code",
   "execution_count": 57,
   "id": "0434a354-0aa4-41fe-b2e4-438f83d4f3cd",
   "metadata": {
    "tags": []
   },
   "outputs": [
    {
     "data": {
      "text/plain": [
       "Index(['session_id', 'hit_date', 'hit_time', 'hit_number', 'hit_type',\n",
       "       'hit_referer', 'hit_page_path', 'event_category', 'event_action',\n",
       "       'event_label', 'event_value'],\n",
       "      dtype='object')"
      ]
     },
     "execution_count": 57,
     "metadata": {},
     "output_type": "execute_result"
    }
   ],
   "source": [
    "df_hits.columns"
   ]
  },
  {
   "cell_type": "code",
   "execution_count": 21,
   "id": "60b74df0-ecc5-4e52-906c-96c1da3fd4ed",
   "metadata": {},
   "outputs": [
    {
     "name": "stdout",
     "output_type": "stream",
     "text": [
      "<class 'pandas.core.frame.DataFrame'>\n",
      "RangeIndex: 15726470 entries, 0 to 15726469\n",
      "Data columns (total 11 columns):\n",
      " #   Column          Non-Null Count     Dtype \n",
      "---  ------          --------------     ----- \n",
      " 0   session_id      15726470 non-null  object\n",
      " 1   hit_date        15726470 non-null  object\n",
      " 2   hit_time        15726470 non-null  int64 \n",
      " 3   hit_number      15726470 non-null  int64 \n",
      " 4   hit_type        15726470 non-null  object\n",
      " 5   hit_referer     9451666 non-null   object\n",
      " 6   hit_page_path   15726470 non-null  object\n",
      " 7   event_category  15726470 non-null  object\n",
      " 8   event_action    15726470 non-null  object\n",
      " 9   event_label     11966286 non-null  object\n",
      " 10  event_value     15726470 non-null  int64 \n",
      "dtypes: int64(3), object(8)\n",
      "memory usage: 1.3+ GB\n"
     ]
    }
   ],
   "source": [
    "df_clean_h.info(verbose=True, show_counts=True)"
   ]
  },
  {
   "cell_type": "code",
   "execution_count": 22,
   "id": "b2ed20c6-0f9a-4927-9cdd-95bcd4ede482",
   "metadata": {
    "collapsed": true,
    "jupyter": {
     "outputs_hidden": true
    },
    "tags": []
   },
   "outputs": [
    {
     "data": {
      "text/plain": [
       "<Axes: >"
      ]
     },
     "execution_count": 22,
     "metadata": {},
     "output_type": "execute_result"
    },
    {
     "data": {
      "image/png": "[encoded data removed]",
      "text/plain": [
       "<Figure size 2500x1000 with 3 Axes>"
      ]
     },
     "metadata": {},
     "output_type": "display_data"
    }
   ],
   "source": [
    "msno.bar(df_clean_h)"
   ]
  },
  {
   "cell_type": "code",
   "execution_count": 58,
   "id": "4ca6d5ac-d272-4cf6-9d63-56972edc6a48",
   "metadata": {
    "tags": []
   },
   "outputs": [],
   "source": [
    "df_clean_h = df_hits.copy()"
   ]
  },
  {
   "cell_type": "markdown",
   "id": "66c8d7db-eeae-4f5c-8790-ace779d3ae18",
   "metadata": {},
   "source": [
    "### Data Preparation"
   ]
  },
  {
   "cell_type": "markdown",
   "id": "a7ea0844-054c-48fb-a979-47f374113f75",
   "metadata": {},
   "source": [
    "##### Заполнение пропусков"
   ]
  },
  {
   "cell_type": "code",
   "execution_count": 23,
   "id": "93b8d5b1-cb24-40db-82bc-7e0720eb294a",
   "metadata": {
    "tags": []
   },
   "outputs": [],
   "source": [
    "# В этих колонках заменяем на 'другие'\n",
    "df_clean_h.hit_referer = df_clean_h.hit_referer.fillna('other')\n",
    "df_clean_h.event_label = df_clean_h.event_label.fillna('other')"
   ]
  },
  {
   "cell_type": "markdown",
   "id": "c34b715a-6d75-44f2-b568-e5821ccf4407",
   "metadata": {},
   "source": [
    "##### Формат столбцов"
   ]
  },
  {
   "cell_type": "code",
   "execution_count": 24,
   "id": "13b36c5b-18fd-47a7-b360-2b1a2c66b815",
   "metadata": {
    "tags": []
   },
   "outputs": [],
   "source": [
    "# меняем на формат 'дата время'\n",
    "df_clean_h['hit_date'] = pd.to_datetime(df_clean_h['hit_date'])"
   ]
  },
  {
   "cell_type": "markdown",
   "id": "fa78526c-c026-40ac-9de8-48f2e87cb94a",
   "metadata": {},
   "source": [
    "##### Удаление столбцов "
   ]
  },
  {
   "cell_type": "code",
   "execution_count": 25,
   "id": "4c08c9e0-06b7-4f53-bd91-3cc2aea9176b",
   "metadata": {
    "tags": []
   },
   "outputs": [],
   "source": [
    "# удаляем лишние колонки \n",
    "df_clean_h = df_clean_h.drop('hit_time', axis = 1)"
   ]
  },
  {
   "cell_type": "code",
   "execution_count": null,
   "id": "921aa350-a888-4fd6-a8f7-3880c39f4750",
   "metadata": {},
   "outputs": [],
   "source": []
  },
  {
   "cell_type": "markdown",
   "id": "6fbfc8ce-4e63-495d-b4b6-9dfdf4de4c6a",
   "metadata": {
    "tags": []
   },
   "source": [
    "## Основной DataSet"
   ]
  },
  {
   "cell_type": "markdown",
   "id": "d2631bf2-2f80-4897-86bd-9134c6dc7e8e",
   "metadata": {
    "tags": []
   },
   "source": [
    "### Обьеденяем DataSet"
   ]
  },
  {
   "cell_type": "code",
   "execution_count": 26,
   "id": "0404fa41-4b80-48a6-bd9d-e129d3fca824",
   "metadata": {
    "tags": []
   },
   "outputs": [],
   "source": [
    "df1 = pd.merge(df_clean_h, df_clean, left_on='session_id', right_on='session_id')"
   ]
  },
  {
   "cell_type": "code",
   "execution_count": 27,
   "id": "6464a970-a654-45d5-8cdf-0f818a1e44d0",
   "metadata": {
    "tags": []
   },
   "outputs": [
    {
     "data": {
      "text/html": [
       "<div>\n",
       "<style scoped>\n",
       "    .dataframe tbody tr th:only-of-type {\n",
       "        vertical-align: middle;\n",
       "    }\n",
       "\n",
       "    .dataframe tbody tr th {\n",
       "        vertical-align: top;\n",
       "    }\n",
       "\n",
       "    .dataframe thead th {\n",
       "        text-align: right;\n",
       "    }\n",
       "</style>\n",
       "<table border=\"1\" class=\"dataframe\">\n",
       "  <thead>\n",
       "    <tr style=\"text-align: right;\">\n",
       "      <th></th>\n",
       "      <th>session_id</th>\n",
       "      <th>hit_date</th>\n",
       "      <th>hit_number</th>\n",
       "      <th>hit_type</th>\n",
       "      <th>hit_referer</th>\n",
       "      <th>hit_page_path</th>\n",
       "      <th>event_category</th>\n",
       "      <th>event_action</th>\n",
       "      <th>event_label</th>\n",
       "      <th>event_value</th>\n",
       "      <th>...</th>\n",
       "      <th>utm_medium</th>\n",
       "      <th>utm_campaign</th>\n",
       "      <th>utm_adcontent</th>\n",
       "      <th>device_category</th>\n",
       "      <th>device_brand</th>\n",
       "      <th>device_screen_resolution</th>\n",
       "      <th>device_browser</th>\n",
       "      <th>geo_country</th>\n",
       "      <th>geo_city</th>\n",
       "      <th>date_visit_time</th>\n",
       "    </tr>\n",
       "  </thead>\n",
       "  <tbody>\n",
       "    <tr>\n",
       "      <th>0</th>\n",
       "      <td>5639623078712724064.1640254056.1640254056</td>\n",
       "      <td>2021-12-23</td>\n",
       "      <td>30</td>\n",
       "      <td>event</td>\n",
       "      <td>other</td>\n",
       "      <td>sberauto.com/cars?utm_source_initial=google&amp;ut...</td>\n",
       "      <td>quiz</td>\n",
       "      <td>quiz_show</td>\n",
       "      <td>other</td>\n",
       "      <td>0</td>\n",
       "      <td>...</td>\n",
       "      <td>cpc</td>\n",
       "      <td>other</td>\n",
       "      <td>other</td>\n",
       "      <td>mobile</td>\n",
       "      <td>Huawei</td>\n",
       "      <td>360x780</td>\n",
       "      <td>Chrome</td>\n",
       "      <td>Russia</td>\n",
       "      <td>Saint Petersburg</td>\n",
       "      <td>2021-12-23 13:07:36</td>\n",
       "    </tr>\n",
       "    <tr>\n",
       "      <th>1</th>\n",
       "      <td>5639623078712724064.1640254056.1640254056</td>\n",
       "      <td>2021-12-23</td>\n",
       "      <td>12</td>\n",
       "      <td>event</td>\n",
       "      <td>other</td>\n",
       "      <td>sberauto.com/cars/all/kia/seltos/20f30855?utm_...</td>\n",
       "      <td>card_web</td>\n",
       "      <td>view_new_card</td>\n",
       "      <td>other</td>\n",
       "      <td>0</td>\n",
       "      <td>...</td>\n",
       "      <td>cpc</td>\n",
       "      <td>other</td>\n",
       "      <td>other</td>\n",
       "      <td>mobile</td>\n",
       "      <td>Huawei</td>\n",
       "      <td>360x780</td>\n",
       "      <td>Chrome</td>\n",
       "      <td>Russia</td>\n",
       "      <td>Saint Petersburg</td>\n",
       "      <td>2021-12-23 13:07:36</td>\n",
       "    </tr>\n",
       "    <tr>\n",
       "      <th>2</th>\n",
       "      <td>5639623078712724064.1640254056.1640254056</td>\n",
       "      <td>2021-12-23</td>\n",
       "      <td>18</td>\n",
       "      <td>event</td>\n",
       "      <td>other</td>\n",
       "      <td>sberauto.com/cars/all/volkswagen/tiguan/0208cd...</td>\n",
       "      <td>card_web</td>\n",
       "      <td>view_new_card</td>\n",
       "      <td>other</td>\n",
       "      <td>0</td>\n",
       "      <td>...</td>\n",
       "      <td>cpc</td>\n",
       "      <td>other</td>\n",
       "      <td>other</td>\n",
       "      <td>mobile</td>\n",
       "      <td>Huawei</td>\n",
       "      <td>360x780</td>\n",
       "      <td>Chrome</td>\n",
       "      <td>Russia</td>\n",
       "      <td>Saint Petersburg</td>\n",
       "      <td>2021-12-23 13:07:36</td>\n",
       "    </tr>\n",
       "    <tr>\n",
       "      <th>3</th>\n",
       "      <td>5639623078712724064.1640254056.1640254056</td>\n",
       "      <td>2021-12-23</td>\n",
       "      <td>20</td>\n",
       "      <td>event</td>\n",
       "      <td>other</td>\n",
       "      <td>sberauto.com/cars/all/volkswagen/tiguan/0208cd...</td>\n",
       "      <td>card_web</td>\n",
       "      <td>view_new_card</td>\n",
       "      <td>other</td>\n",
       "      <td>0</td>\n",
       "      <td>...</td>\n",
       "      <td>cpc</td>\n",
       "      <td>other</td>\n",
       "      <td>other</td>\n",
       "      <td>mobile</td>\n",
       "      <td>Huawei</td>\n",
       "      <td>360x780</td>\n",
       "      <td>Chrome</td>\n",
       "      <td>Russia</td>\n",
       "      <td>Saint Petersburg</td>\n",
       "      <td>2021-12-23 13:07:36</td>\n",
       "    </tr>\n",
       "    <tr>\n",
       "      <th>4</th>\n",
       "      <td>5639623078712724064.1640254056.1640254056</td>\n",
       "      <td>2021-12-23</td>\n",
       "      <td>8</td>\n",
       "      <td>event</td>\n",
       "      <td>other</td>\n",
       "      <td>sberauto.com/cars/all/kia/seltos/20f30855?utm_...</td>\n",
       "      <td>card_web</td>\n",
       "      <td>view_new_card</td>\n",
       "      <td>other</td>\n",
       "      <td>0</td>\n",
       "      <td>...</td>\n",
       "      <td>cpc</td>\n",
       "      <td>other</td>\n",
       "      <td>other</td>\n",
       "      <td>mobile</td>\n",
       "      <td>Huawei</td>\n",
       "      <td>360x780</td>\n",
       "      <td>Chrome</td>\n",
       "      <td>Russia</td>\n",
       "      <td>Saint Petersburg</td>\n",
       "      <td>2021-12-23 13:07:36</td>\n",
       "    </tr>\n",
       "  </tbody>\n",
       "</table>\n",
       "<p>5 rows × 23 columns</p>\n",
       "</div>"
      ],
      "text/plain": [
       "                                  session_id   hit_date  hit_number hit_type  \\\n",
       "0  5639623078712724064.1640254056.1640254056 2021-12-23          30    event   \n",
       "1  5639623078712724064.1640254056.1640254056 2021-12-23          12    event   \n",
       "2  5639623078712724064.1640254056.1640254056 2021-12-23          18    event   \n",
       "3  5639623078712724064.1640254056.1640254056 2021-12-23          20    event   \n",
       "4  5639623078712724064.1640254056.1640254056 2021-12-23           8    event   \n",
       "\n",
       "  hit_referer                                      hit_page_path  \\\n",
       "0       other  sberauto.com/cars?utm_source_initial=google&ut...   \n",
       "1       other  sberauto.com/cars/all/kia/seltos/20f30855?utm_...   \n",
       "2       other  sberauto.com/cars/all/volkswagen/tiguan/0208cd...   \n",
       "3       other  sberauto.com/cars/all/volkswagen/tiguan/0208cd...   \n",
       "4       other  sberauto.com/cars/all/kia/seltos/20f30855?utm_...   \n",
       "\n",
       "  event_category   event_action event_label  event_value  ... utm_medium  \\\n",
       "0           quiz      quiz_show       other            0  ...        cpc   \n",
       "1       card_web  view_new_card       other            0  ...        cpc   \n",
       "2       card_web  view_new_card       other            0  ...        cpc   \n",
       "3       card_web  view_new_card       other            0  ...        cpc   \n",
       "4       card_web  view_new_card       other            0  ...        cpc   \n",
       "\n",
       "   utm_campaign utm_adcontent device_category device_brand  \\\n",
       "0         other         other          mobile       Huawei   \n",
       "1         other         other          mobile       Huawei   \n",
       "2         other         other          mobile       Huawei   \n",
       "3         other         other          mobile       Huawei   \n",
       "4         other         other          mobile       Huawei   \n",
       "\n",
       "  device_screen_resolution device_browser geo_country          geo_city  \\\n",
       "0                  360x780         Chrome      Russia  Saint Petersburg   \n",
       "1                  360x780         Chrome      Russia  Saint Petersburg   \n",
       "2                  360x780         Chrome      Russia  Saint Petersburg   \n",
       "3                  360x780         Chrome      Russia  Saint Petersburg   \n",
       "4                  360x780         Chrome      Russia  Saint Petersburg   \n",
       "\n",
       "      date_visit_time  \n",
       "0 2021-12-23 13:07:36  \n",
       "1 2021-12-23 13:07:36  \n",
       "2 2021-12-23 13:07:36  \n",
       "3 2021-12-23 13:07:36  \n",
       "4 2021-12-23 13:07:36  \n",
       "\n",
       "[5 rows x 23 columns]"
      ]
     },
     "execution_count": 27,
     "metadata": {},
     "output_type": "execute_result"
    }
   ],
   "source": [
    "df1.head()"
   ]
  },
  {
   "cell_type": "code",
   "execution_count": 28,
   "id": "cff2db02-b522-40da-b418-2ad062f2b2ee",
   "metadata": {
    "tags": []
   },
   "outputs": [
    {
     "name": "stdout",
     "output_type": "stream",
     "text": [
      "<class 'pandas.core.frame.DataFrame'>\n",
      "RangeIndex: 15685219 entries, 0 to 15685218\n",
      "Data columns (total 23 columns):\n",
      " #   Column                    Dtype         \n",
      "---  ------                    -----         \n",
      " 0   session_id                object        \n",
      " 1   hit_date                  datetime64[ns]\n",
      " 2   hit_number                int64         \n",
      " 3   hit_type                  object        \n",
      " 4   hit_referer               object        \n",
      " 5   hit_page_path             object        \n",
      " 6   event_category            object        \n",
      " 7   event_action              object        \n",
      " 8   event_label               object        \n",
      " 9   event_value               int64         \n",
      " 10  client_id                 object        \n",
      " 11  visit_number              int64         \n",
      " 12  utm_source                object        \n",
      " 13  utm_medium                object        \n",
      " 14  utm_campaign              object        \n",
      " 15  utm_adcontent             object        \n",
      " 16  device_category           object        \n",
      " 17  device_brand              object        \n",
      " 18  device_screen_resolution  object        \n",
      " 19  device_browser            object        \n",
      " 20  geo_country               object        \n",
      " 21  geo_city                  object        \n",
      " 22  date_visit_time           datetime64[ns]\n",
      "dtypes: datetime64[ns](2), int64(3), object(18)\n",
      "memory usage: 2.7+ GB\n"
     ]
    }
   ],
   "source": [
    "df1.info()"
   ]
  },
  {
   "cell_type": "markdown",
   "id": "f24b8e44-f7fa-4f3d-abd3-3568ef799f2f",
   "metadata": {
    "tags": []
   },
   "source": [
    "### Создаем новые фичи"
   ]
  },
  {
   "cell_type": "markdown",
   "id": "a7d86af8-e121-4501-8bd0-6edf737c6072",
   "metadata": {},
   "source": [
    "Собираем в список все целевые действия и создаем новый признак"
   ]
  },
  {
   "cell_type": "code",
   "execution_count": 29,
   "id": "06b98676-2e0b-4e1d-a51a-04e621147de0",
   "metadata": {
    "tags": []
   },
   "outputs": [],
   "source": [
    "target_event_actions = [\n",
    "    'sub_car_claim_submit_click', 'sub_submit_success', \n",
    "    'sub_car_claim_click', 'sub_open_dialog_click', \n",
    "    'sub_call_number_click','sub_car_request_submit_click'\n",
    "]\n",
    "df1['action_taget'] = df1['event_action'].apply(lambda x : 'target' if x in target_event_actions else 'notarget')"
   ]
  },
  {
   "cell_type": "markdown",
   "id": "fd2c8769-4c84-4223-9adc-3ce9368027c8",
   "metadata": {},
   "source": [
    "Собираем в список все типы органического траффика"
   ]
  },
  {
   "cell_type": "code",
   "execution_count": 30,
   "id": "16b7e86b-0880-453b-848f-514230ed5ef0",
   "metadata": {
    "tags": []
   },
   "outputs": [],
   "source": [
    "utm_medium_type_organic_not_organic = [\n",
    "    '(none)', 'organic', 'referral'\n",
    "]\n",
    "df1['medium_type'] = df1['utm_medium'].apply(lambda x : 'organic' if x in utm_medium_type_organic_not_organic else 'pay')"
   ]
  },
  {
   "cell_type": "markdown",
   "id": "33f2de13-6848-4679-8258-cbc303cdf7ae",
   "metadata": {},
   "source": [
    "Собираем в список все типы устройства"
   ]
  },
  {
   "cell_type": "code",
   "execution_count": 31,
   "id": "52d31109-3145-4e5d-ad3e-52def411eaa8",
   "metadata": {
    "tags": []
   },
   "outputs": [],
   "source": [
    "device_category_type = ['mobile', 'tablet']\n",
    "df1['device_category_type'] = df1['device_category'].apply(lambda x : 'mobile' if x in device_category_type else 'desktop')"
   ]
  },
  {
   "cell_type": "markdown",
   "id": "73c30c52-192e-4913-ac17-e9245c3bc3eb",
   "metadata": {},
   "source": [
    "Собираем в список все города присутсвия"
   ]
  },
  {
   "cell_type": "code",
   "execution_count": 32,
   "id": "d1513773-afc7-4405-aa26-5422ca999125",
   "metadata": {
    "tags": []
   },
   "outputs": [],
   "source": [
    "geo_city_presence = [\n",
    "    'Saint Petersburg','Moscow', \n",
    "    'Podolsk', 'Korolyov', 'Kolomna',\n",
    "    'Naro-Fominsk', 'Dzerzhinsky','Krasnogorsk',\n",
    "    'Balashikha', 'Dmitrov', 'Sergiyev Posad',\n",
    "    'Odintsovo', 'Lobnya', 'Yegoryevsk',\n",
    "    'Kotelniki', 'Mytishchi', 'Zheleznodorozhny',\n",
    "    'Serpukhov', 'Shchyolkovo', 'Vidnoye', \n",
    "    'Golitsyno', 'Ramenskoye', 'Dubna', 'Khimki',\n",
    "    'Likino-Dulyovo', 'Ivanteyevka', 'LesnoyGorodok',\n",
    "    'Istra', 'Losino-Petrovsky', 'SaintPetersburg',\n",
    "    'Elektrogorsk', 'Protvino', 'Klimovsk',\n",
    "    'Tomilino', 'Petrovo-Dalneye', 'Pushkino',\n",
    "    'Orekhovo-Zuyevo', 'Voskresensk', 'Fryazino',\n",
    "    'Kraskovo', 'Khotkovo', 'Kubinka',\n",
    "    'Chernogolovka','Dolgoprudny'\n",
    "]\n",
    "df1['geo_city_presence'] = df1['geo_city'].apply(lambda x : 'city_presence' if x in geo_city_presence else 'other_city')"
   ]
  },
  {
   "cell_type": "markdown",
   "id": "a18e4c98-b840-4291-be0d-3b71eb714f4f",
   "metadata": {},
   "source": [
    "Создаем функцияю со списком моделей автомобиля и создаем новый признак - модель автомобиля"
   ]
  },
  {
   "cell_type": "code",
   "execution_count": 33,
   "id": "039898c5-d7d6-4a0f-bba3-72d4f5948401",
   "metadata": {
    "tags": []
   },
   "outputs": [],
   "source": [
    "def find_auto(str):\n",
    "    car_models = [\n",
    "        '/skoda',  '/renault', \n",
    "        '/volkswagen', '/toyota', \n",
    "        '/kia',  '/nissan', \n",
    "        '/volvo', '/fiat',\n",
    "        '/mercedes-benz', '/bmw',\n",
    "        '/volkswagen', '/audi',\n",
    "        '/peugeot', '/porsche',\n",
    "        '/haval', '/lada-vaz',\n",
    "        '/mini', '/lexus','/land-rover'\n",
    "    ]\n",
    "    found_car_model = 'model_unknown'\n",
    "    for car_model in car_models:\n",
    "        if car_model in str: \n",
    "            found_car_model = car_model\n",
    "    return found_car_model\n",
    "df1['car_type'] = df1['hit_page_path'].apply(lambda x : find_auto(x))"
   ]
  },
  {
   "cell_type": "markdown",
   "id": "aa53bcdc-d032-4d8a-8404-246658e38505",
   "metadata": {
    "tags": []
   },
   "source": [
    "## Выполнение задач"
   ]
  },
  {
   "cell_type": "markdown",
   "id": "cf8e3f82-81c0-4e02-8d48-e999407c7f03",
   "metadata": {
    "tags": []
   },
   "source": [
    "### Проверка гепотиз"
   ]
  },
  {
   "cell_type": "markdown",
   "id": "dceb72f9-5756-4c8d-b279-9cf2bac5c0ce",
   "metadata": {
    "tags": []
   },
   "source": []
  },
  {
   "cell_type": "markdown",
   "id": "aee6900b-b742-483e-a800-6ec236b7a177",
   "metadata": {},
   "source": [
    "**Функция статистического Биноминального критерия значимости**"
   ]
  },
  {
   "cell_type": "code",
   "execution_count": 2,
   "id": "f7066e4f-0d07-409c-a643-8e79c8920432",
   "metadata": {
    "tags": []
   },
   "outputs": [],
   "source": [
    "img = Image.open(\"Таблица для гепотиз.jpg\")\n",
    "img.show()"
   ]
  },
  {
   "cell_type": "markdown",
   "id": "2a38a2eb-21f7-4ad6-ba10-3e4c17438147",
   "metadata": {},
   "source": [
    "Выбор метода подтверждения гепотизы:\n",
    "У нас есть две группы людей разделением CR, мы знаем что группы друг от друга не зависимы и распределение групп не нормальноб по этому в данных условиях можно применить 2 метода U-кретерий Манна Уитни и Биноминального критерия.\\\n",
    "По скольку наши группы в процессе подтверждения гипотизы  разделяяются на подгруппы и надо учитывать все данные принемаю решение об использовании Биноминального критерия.\n",
    "\n"
   ]
  },
  {
   "cell_type": "markdown",
   "id": "c2e6ea31-4105-4cb7-9dd4-9388f4b34ccb",
   "metadata": {
    "tags": []
   },
   "source": [
    "* на вход ф-ии подается кол-во успехов варианта А и общее число вариантов m1,n1 \n",
    "* число успехов варанта Б и общее число вариантов m2, n2, \n",
    "* а также уровень значимости - опционально (0.05 по умолчанию) \\\n",
    "Дальше применяем формулу биноминального критерия: \\\n",
    " T = (m1/n1 - m2/n2)/((m1+m2)/(n1+n2)*(1 - (m1+m2)/(n1+n2))*(1/n1+1/n2))**0.5"
   ]
  },
  {
   "cell_type": "code",
   "execution_count": 34,
   "id": "9f119032-b32c-4e8c-8249-4f9cccfe0ee3",
   "metadata": {
    "tags": []
   },
   "outputs": [],
   "source": [
    "def p_bin(m1,n1,m2,n2,level_conf=0.05):\n",
    "    T = (m1/n1 - m2/n2)/((m1+m2)/(n1+n2)*(1 - (m1+m2)/(n1+n2))*(1/n1+1/n2))**0.5 \n",
    "    P = 1 - stats.norm.cdf(T)\n",
    "    print(f\"Stats {T}, p-value {P}\")\n",
    "    if (P < level_conf):\n",
    "        print(f\"На уровне значимости {level_conf} нулевая гипотеза отвергается в пользу альтернативной: Вариаент А более значим (значимая разница Варианта А перед вариантом Б есть)\")\n",
    "    else: \n",
    "        print(f\"На уровне значимости {level_conf} нулевая гипотеза принимается (нет значимой разницы между вариантом А и Б)\")          "
   ]
  },
  {
   "cell_type": "markdown",
   "id": "94bb3f63-a035-4af8-be1b-84bc1c7ffeaa",
   "metadata": {
    "tags": []
   },
   "source": [
    "**1 Вопрос:** Органический трафик не отличается от платного с точки зрения CR (Conversion Rate) в целевые события.\n",
    "1. Нулевая гипотеза: Органический трафик **не отличается** от платного в целевые события.\n",
    "2. Альтернативная гипотеза: Органический трафик **отличается** от платного в целевые события."
   ]
  },
  {
   "cell_type": "markdown",
   "id": "9b0ab216-a395-46c5-a0a6-cd47734e105d",
   "metadata": {},
   "source": [
    "Сделаем сводную таблицу по 2 показателям, \"Тип трафика\" и \"Тип привлечения\""
   ]
  },
  {
   "cell_type": "code",
   "execution_count": 35,
   "id": "e1e347f4-7dac-4026-9566-174e775bdcc9",
   "metadata": {
    "tags": []
   },
   "outputs": [
    {
     "data": {
      "text/plain": [
       "medium_type  action_taget\n",
       "organic      notarget        5777695\n",
       "             target            39872\n",
       "pay          notarget        9808238\n",
       "             target            59414\n",
       "Name: session_id, dtype: int64"
      ]
     },
     "execution_count": 35,
     "metadata": {},
     "output_type": "execute_result"
    }
   ],
   "source": [
    "summary_table = df1.groupby(['medium_type', 'action_taget'])['session_id'].count()\n",
    "summary_table"
   ]
  },
  {
   "cell_type": "code",
   "execution_count": 36,
   "id": "d5f50f67-3524-4066-82b6-0046cbc9de40",
   "metadata": {
    "tags": []
   },
   "outputs": [
    {
     "name": "stdout",
     "output_type": "stream",
     "text": [
      "Stats -20.084816152154797, p-value 1.0\n",
      "На уровне значимости 0.05 нулевая гипотеза принимается (нет значимой разницы между вариантом А и Б)\n"
     ]
    }
   ],
   "source": [
    "# Подаем данные которые получили в таблице summary_table\n",
    "p_bin(59414,9808238+59414,39872, 5777695+39872 )"
   ]
  },
  {
   "cell_type": "markdown",
   "id": "4d20fddf-4d5b-4494-9393-70349ca13277",
   "metadata": {},
   "source": [
    "**2 Вопрос:** Трафик с мобильных устройств не отличается от трафика с десктопных устройств с точки зрения CR (Conversion Rate) в целевые события.  \n",
    "1. Нулевая гипотеза: Трафик с мобильных устройств **не отличается** от трафика с десктопных устройств в целевые события.\n",
    "2. Альтернативная гипотеза: Трафик с мобильных устройств **отличается** от трафика с десктопных устройств в целевые события."
   ]
  },
  {
   "cell_type": "markdown",
   "id": "9b2e4c02-0385-4026-a100-9f3130bbfaba",
   "metadata": {},
   "source": [
    "Сделаем сводную таблицу по 2 показателям, \"Тип трафика\", \"Тип устройства\""
   ]
  },
  {
   "cell_type": "code",
   "execution_count": 37,
   "id": "e9a3fe05-56c2-4ac0-9113-32a582e6a3f6",
   "metadata": {
    "tags": []
   },
   "outputs": [
    {
     "data": {
      "text/plain": [
       "device_category_type  action_taget\n",
       "desktop               notarget         3921408\n",
       "                      target             23846\n",
       "mobile                notarget        11664525\n",
       "                      target             75440\n",
       "Name: session_id, dtype: int64"
      ]
     },
     "execution_count": 37,
     "metadata": {},
     "output_type": "execute_result"
    }
   ],
   "source": [
    "summary_table2 = df1.groupby(['device_category_type', 'action_taget'])['session_id'].count()\n",
    "summary_table2"
   ]
  },
  {
   "cell_type": "code",
   "execution_count": 38,
   "id": "671241f1-b38c-44a8-9a39-f5561e9d66c2",
   "metadata": {
    "tags": []
   },
   "outputs": [
    {
     "name": "stdout",
     "output_type": "stream",
     "text": [
      "Stats 8.270194225881966, p-value 1.1102230246251565e-16\n",
      "На уровне значимости 0.05 нулевая гипотеза отвергается в пользу альтернативной: Вариаент А более значим (значимая разница Варианта А перед вариантом Б есть)\n"
     ]
    }
   ],
   "source": [
    "# Подаем данные которые получили в таблице summary_table2\n",
    "p_bin(75440,11664525+75440, 23846,3921408+23846 )"
   ]
  },
  {
   "cell_type": "markdown",
   "id": "b4ccb896-a621-4184-aad7-a6800db81f5f",
   "metadata": {},
   "source": [
    "**3 Вопрос:** Трафик из городов присутствия (Москва и область, Санкт-Петербург) не отличается от трафика из иных регионов с точки зрения CR (Conversion Rate) в целевые события.\n",
    "1. Нулевая гипотеза: Трафик из городов присутствия (Москва и область, Санкт-Петербург) **не отличается** от трафика из иных регионов в целевые события.\n",
    "2. Альтернативная гипотеза: Трафик из городов присутствия (Москва и область, Санкт-Петербург) **отличается** от трафика из иных регионов в целевые события."
   ]
  },
  {
   "cell_type": "code",
   "execution_count": 39,
   "id": "4aee0691-e770-414d-ae44-a7e15133c1b1",
   "metadata": {
    "tags": []
   },
   "outputs": [
    {
     "data": {
      "text/plain": [
       "geo_city_presence  action_taget\n",
       "city_presence      notarget        9847695\n",
       "                   target            67130\n",
       "other_city         notarget        5738238\n",
       "                   target            32156\n",
       "Name: session_id, dtype: int64"
      ]
     },
     "execution_count": 39,
     "metadata": {},
     "output_type": "execute_result"
    }
   ],
   "source": [
    "summary_table3 = df1.groupby(['geo_city_presence', 'action_taget'])['session_id'].count()\n",
    "summary_table3"
   ]
  },
  {
   "cell_type": "code",
   "execution_count": 40,
   "id": "f47fc175-8849-43d9-832b-2eb021c54c61",
   "metadata": {
    "tags": []
   },
   "outputs": [
    {
     "name": "stdout",
     "output_type": "stream",
     "text": [
      "Stats 28.851484895594773, p-value 0.0\n",
      "На уровне значимости 0.05 нулевая гипотеза отвергается в пользу альтернативной: Вариаент А более значим (значимая разница Варианта А перед вариантом Б есть)\n"
     ]
    }
   ],
   "source": [
    "# Подаем данные которые получили в таблице summary_table3\n",
    "p_bin(67130,9847695+67130, 32156,5738238+32156)"
   ]
  },
  {
   "cell_type": "markdown",
   "id": "aa471979-9819-43ec-9a15-4f3da2b2d0b9",
   "metadata": {
    "tags": []
   },
   "source": [
    "### Ответ на вопросы"
   ]
  },
  {
   "cell_type": "markdown",
   "id": "c78b386d-7004-4c08-98ad-44e894087469",
   "metadata": {},
   "source": [
    "**1 вопрос:** Из каких источников / кампаний / устройств / локаций к нам идёт самый целевой трафик с точки зрения объёма трафика, и с точки зрения CR ?"
   ]
  },
  {
   "cell_type": "markdown",
   "id": "384c0601-cf2e-4dca-bb84-9e3a82ce6661",
   "metadata": {},
   "source": [
    "Делаем таблицу с группировкой по типу конверсии - в целевое действие и нецелевое действие, типу траффика и типу устройств, а также городам присуствия"
   ]
  },
  {
   "cell_type": "code",
   "execution_count": 41,
   "id": "458ddc3e-7df2-49bd-940a-5609186c9aa5",
   "metadata": {
    "tags": []
   },
   "outputs": [
    {
     "data": {
      "text/plain": [
       "action_taget  medium_type  device_category_type  geo_city_presence\n",
       "notarget      organic      desktop               city_presence        1517897\n",
       "                                                 other_city            849991\n",
       "                           mobile                city_presence        2261920\n",
       "                                                 other_city           1147887\n",
       "              pay          desktop               city_presence        1203764\n",
       "                                                 other_city            349756\n",
       "                           mobile                city_presence        4864114\n",
       "                                                 other_city           3390604\n",
       "target        organic      desktop               city_presence          11141\n",
       "                                                 other_city              5208\n",
       "                           mobile                city_presence          15616\n",
       "                                                 other_city              7907\n",
       "              pay          desktop               city_presence           6217\n",
       "                                                 other_city              1280\n",
       "                           mobile                city_presence          34156\n",
       "                                                 other_city             17761\n",
       "Name: session_id, dtype: int64"
      ]
     },
     "execution_count": 41,
     "metadata": {},
     "output_type": "execute_result"
    }
   ],
   "source": [
    "df1.groupby(['action_taget', 'medium_type', 'device_category_type' ,'geo_city_presence'])['session_id'].count()"
   ]
  },
  {
   "cell_type": "markdown",
   "id": "f1e7eebb-21d6-4ddd-a418-5bc7e5b4f169",
   "metadata": {},
   "source": [
    "1) Наибольший объем неорганического траффика идет с мобильных устройств из городов присуствия. \n",
    "2) Наибольший объем CR трафика, к нам идет из платныного мобильнного трафика из городов присутсвия."
   ]
  },
  {
   "cell_type": "markdown",
   "id": "022300c8-9e0c-45a4-a3f0-295d74309e94",
   "metadata": {},
   "source": [
    "**2 вопрос:** Какие авто пользуются наибольшим спросом? У каких авто самый лучший показатель CR (Conversion Rate) в целевые события? "
   ]
  },
  {
   "cell_type": "markdown",
   "id": "2afa81d5-cce7-4353-a1b1-4db44cfa2bb1",
   "metadata": {},
   "source": [
    "Делаем таблицу с группировкой по типу конверсии - в целевое действие и нецелевое действие, а также модели автомобиля"
   ]
  },
  {
   "cell_type": "code",
   "execution_count": 42,
   "id": "d3303e11-461b-495f-9296-c4ba41e51433",
   "metadata": {
    "tags": []
   },
   "outputs": [],
   "source": [
    "car_type = df1.groupby(['action_taget', 'car_type'])['session_id'].count()"
   ]
  },
  {
   "cell_type": "code",
   "execution_count": 43,
   "id": "221d746b-ef55-401e-a694-16ee077526e8",
   "metadata": {
    "tags": []
   },
   "outputs": [],
   "source": [
    "# Группируем 2 списка \"Целевые\",\"Не целевые\". И строим график для наглядности топ 10 запросов: в графике убираем самый популярный ответ \"другое авто\", смотрим что получилось\n",
    "car_type_notarget = car_type.notarget.sort_values(ascending=False).iloc[1:11]\n",
    "car_type_target = car_type.target.sort_values(ascending=False).iloc[1:11]"
   ]
  },
  {
   "cell_type": "code",
   "execution_count": 44,
   "id": "0a14c5cf-f35a-42de-b11f-714cef854795",
   "metadata": {
    "tags": []
   },
   "outputs": [
    {
     "data": {
      "image/png": "[encoded data removed]",
      "text/plain": [
       "<Figure size 800x600 with 2 Axes>"
      ]
     },
     "metadata": {},
     "output_type": "display_data"
    }
   ],
   "source": [
    "fig, axes = plt.subplots(1,2)\n",
    "plt.subplots_adjust(wspace=0.5) \n",
    "car_type_notarget.plot.bar( ax = axes[1], title='Спрос на нецелевые машины',\n",
    " ylabel=' Не целевые', xlabel='Машины', figsize=( 8 , 6 ), color = 'green')\n",
    "car_type_target.plot.bar( ax = axes[0], title='Спрос на целевые машины',\n",
    " ylabel='Целевые', xlabel='Машины', figsize=( 8, 6 ));\n"
   ]
  },
  {
   "cell_type": "markdown",
   "id": "bf38dea7-080f-48c3-9060-c7110059909b",
   "metadata": {
    "tags": []
   },
   "source": [
    "Топ5 автомобилей: skoda, lada-vaz, volkswagen, kia, mercedes-benz"
   ]
  },
  {
   "cell_type": "markdown",
   "id": "98d25fa6-8edd-4c2c-a276-1ff002be1350",
   "metadata": {},
   "source": [
    "## Ответы на вопроосы и гепотизы "
   ]
  },
  {
   "cell_type": "markdown",
   "id": "8a79e842-2c5a-4948-9e96-8e32a7265eb2",
   "metadata": {},
   "source": [
    "Вопрос: Органический трафик не отличается от платного с точки зрения CR (Conversion Rate) в целевые события.\n",
    "1. Нулевая гипотеза: Органический трафик **не отличается** от платного в целевые события.\n",
    "2. Альтернативная гипотеза: Органический трафик **отличается** от платного в целевые события.\\\n",
    "Ответ:\\\n",
    "Используем биномиальный критерий проверки гипотезы. **Нулевая гипотеза ПОДТВЕРЖДАЕТСЯ**. \\\n",
    "Вариант A не значительно отличается от варианта B по этому делаем вывод  что Органический трафик не отличается от платного с точки зрения CR (Conversion Rate) в целевые события.\n"
   ]
  },
  {
   "cell_type": "markdown",
   "id": "af282b68-2b2e-42d1-b6dd-b724281b3f09",
   "metadata": {},
   "source": [
    "Вопрос: Трафик с мобильных устройств не отличается от трафика с десктопных устройств с точки зрения CR (Conversion Rate) в целевые события.  \n",
    "1. Нулевая гипотеза: Трафик с мобильных устройств **не отличается** от трафика с десктопных устройств в целевые события.\n",
    "2. Альтернативная гипотеза: Трафик с мобильных устройств **отличается** от трафика с десктопных устройств в целевые события. \\\n",
    "Ответ:\\\n",
    "Используем биномиальный критерий проверки гипотезы. **нулевая гипотеза ОТВЕРГАЕТСЯ в пользу альтернативной**. \\\n",
    "Вариант A более значим  чем вариант B по этому делаем вывод что трафик с мобильных устройств ОТЛИЧАЕТСЯ от трафика с десктопных устройств с точки зрения CR (Conversion Rate) в целевые события.\n",
    "\n",
    "\n"
   ]
  },
  {
   "cell_type": "markdown",
   "id": "14b9d958-061f-4897-a859-3bb28a391ad1",
   "metadata": {},
   "source": [
    "Вопрос: Трафик из городов присутствия (Москва и область, Санкт-Петербург) не отличается от трафика из иных регионов с точки зрения CR (Conversion Rate) в целевые события.\n",
    "1. Нулевая гипотеза: Трафик из городов присутствия (Москва и область, Санкт-Петербург) **не отличается** от трафика из иных регионов в целевые события.\n",
    "2. Альтернативная гипотеза: Трафик из городов присутствия (Москва и область, Санкт-Петербург) **отличается** от трафика из иных регионов в целевые события. \\\n",
    "Ответ:\\\n",
    "Используем биномиальный критерий проверки гипотезы. **нулевая гипотеза ОТВЕРГАЕТСЯ в пользу альтернативной**. \\\n",
    "Вариант A более значим  чем вариант B по этому делаем вывод что трафик из городов присутствия (Москва и область, Санкт-Петербург) ОТЛИЧАЕТСЯ от трафика из иных регионов с точки зрения CR (Conversion Rate) в целевые события."
   ]
  },
  {
   "cell_type": "markdown",
   "id": "78b4b25d-a0a1-4278-9b4f-a8688d9bcd52",
   "metadata": {},
   "source": [
    "### Ответьте на вопросы продуктовой команды:"
   ]
  },
  {
   "cell_type": "markdown",
   "id": "2d2e1f3b-a127-4322-a285-2bc794775cb4",
   "metadata": {},
   "source": [
    "Из каких источников / кампаний / устройств / локаций к нам идёт самый целевой трафик с точки зрения объёма трафика, и с точки зрения CR ? "
   ]
  },
  {
   "cell_type": "markdown",
   "id": "8108e0f0-e6bc-4946-a7b9-c64806ce7ad9",
   "metadata": {
    "tags": []
   },
   "source": [
    "1) Наибольший объем неорганического траффика идет с мобильных устройств из городов присуствия. \n",
    "2) Наибольший объем CR трафика, к нам идет из платныного мобильнного трафика из городов присутсвия."
   ]
  },
  {
   "cell_type": "markdown",
   "id": "b6171760-2a03-4681-94d4-7c30837c55f0",
   "metadata": {},
   "source": [
    "Какие авто пользуются наибольшим спросом? У каких авто самый лучший показатель CR (Conversion Rate) в целевые события? "
   ]
  },
  {
   "cell_type": "markdown",
   "id": "a4e84224-0844-4e2d-9b6d-f91fe1e56eb0",
   "metadata": {
    "tags": []
   },
   "source": [
    "Топ 5 автомобилей пользующийся наибольшим спросом: skoda, lada-vaz, volkswagen, kia, mercedes-benz"
   ]
  },
  {
   "cell_type": "markdown",
   "id": "f29ef0fb-12f7-4ed6-b027-b83df7a1d221",
   "metadata": {},
   "source": [
    "Стоит ли нам увеличивать своё присутствие в соцсетях и давать там больше рекламы ?"
   ]
  },
  {
   "cell_type": "markdown",
   "id": "76c4d2b6-e1e0-4c48-9e8d-4f04f8159fb6",
   "metadata": {},
   "source": [
    "Благодаря первой гепозе мы знаем чтоб неорганический траффик НЕ имеет решающее значение для повышения конверсии, по этому НЕ следует увеличить свое присутвие в социальных сетях, давая больше рекламы. \\\n",
    "Однако мы знаем что наибольшую конерсию мы получаем через мобильные устройства из городов присутсвия: нам следует сосредоточить наши ресурсы на мобильном сегменте, нужно найти самые популярные соц-сети и начсать продвежение наиболее популярных моделей авто (skoda, lada-vaz, volkswagen, kia, mercedes-benz)."
   ]
  },
  {
   "cell_type": "code",
   "execution_count": null,
   "id": "aec1802e-59a4-4cba-8e36-99afdf25c651",
   "metadata": {},
   "outputs": [],
   "source": []
  }
 ],
 "metadata": {
  "kernelspec": {
   "display_name": "Python 3 (ipykernel)",
   "language": "python",
   "name": "python3"
  },
  "language_info": {
   "codemirror_mode": {
    "name": "ipython",
    "version": 3
   },
   "file_extension": ".py",
   "mimetype": "text/x-python",
   "name": "python",
   "nbconvert_exporter": "python",
   "pygments_lexer": "ipython3",
   "version": "3.11.7"
  }
 },
 "nbformat": 4,
 "nbformat_minor": 5
}
